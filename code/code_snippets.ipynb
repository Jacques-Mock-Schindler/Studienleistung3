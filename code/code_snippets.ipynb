{
 "cells": [
  {
   "cell_type": "markdown",
   "metadata": {},
   "source": [
    "Hier ist der gesamte Python-Code für die Funktion `polar_to_cartesian`, die Polarkoordinaten (Länge und Winkel) in kartesische Koordinaten umwandelt:"
   ]
  },
  {
   "cell_type": "code",
   "execution_count": 1,
   "metadata": {},
   "outputs": [],
   "source": [
    "\n",
    "import math\n",
    "\n",
    "def polar_to_cartesian(r, theta_degrees):\n",
    "    \"\"\"\n",
    "    Convert polar coordinates (r, theta) to Cartesian coordinates (x, y).\n",
    "    \n",
    "    :param r: Length of the vector (radius in polar coordinates)\n",
    "    :param theta_degrees: Angle in degrees from the positive x-axis\n",
    "    :return: Tuple (x, y) representing Cartesian coordinates\n",
    "    \"\"\"\n",
    "    theta_radians = math.radians(theta_degrees)  # Convert angle to radians\n",
    "    x = r * math.cos(theta_radians)\n",
    "    y = r * math.sin(theta_radians)\n",
    "    return (x, y)\n"
   ]
  },
  {
   "cell_type": "markdown",
   "metadata": {},
   "source": [
    "Beispiel"
   ]
  },
  {
   "cell_type": "code",
   "execution_count": 3,
   "metadata": {},
   "outputs": [
    {
     "name": "stdout",
     "output_type": "stream",
     "text": [
      "Kartesische Koordinaten: x = 4.330127018922194, y = 2.4999999999999996\n"
     ]
    }
   ],
   "source": [
    "r = 5\n",
    "theta_degrees = 30\n",
    "x, y = polar_to_cartesian(r, theta_degrees)\n",
    "print(f\"Kartesische Koordinaten: x = {x}, y = {y}\")\n"
   ]
  },
  {
   "cell_type": "markdown",
   "metadata": {},
   "source": [
    "\n",
    "In diesem Code wird zuerst die math-Bibliothek importiert, um Zugriff auf trigonometrische Funktionen und die Umrechnung von Grad in Radian zu haben. Die Funktion `polar_to_cartesian` nimmt die Länge `r` und den Winkel `theta_degrees` entgegen, wandelt den Winkel in Radian um und berechnet dann die kartesischen Koordinaten mit Hilfe der Kosinus- und Sinusfunktionen. Im Beispiel wird ein Vektor mit einer Länge von 5 und einem Winkel von 30 Grad in seine kartesischen Koordinaten umgewandelt und das Ergebnis ausgegeben."
   ]
  },
  {
   "cell_type": "markdown",
   "metadata": {},
   "source": [
    "Hier ist eine Funktion namens `degrees_to_radians`, die einen Winkel von Grad in Radian umrechnet:"
   ]
  },
  {
   "cell_type": "code",
   "execution_count": null,
   "metadata": {},
   "outputs": [],
   "source": [
    "import math\n",
    "\n",
    "def degrees_to_radians(theta_degrees):\n",
    "    \"\"\"\n",
    "    Convert an angle from degrees to radians.\n",
    "\n",
    "    :param theta_degrees: Angle in degrees\n",
    "    :return: Angle in radians\n",
    "    \"\"\"\n",
    "    return math.radians(theta_degrees)\n"
   ]
  },
  {
   "cell_type": "markdown",
   "metadata": {},
   "source": [
    "\n",
    "# Beispiel\n"
   ]
  },
  {
   "cell_type": "code",
   "execution_count": null,
   "metadata": {},
   "outputs": [],
   "source": [
    "theta_degrees = 30\n",
    "theta_radians = degrees_to_radians(theta_degrees)\n",
    "print(f\"{theta_degrees} Grad entspricht {theta_radians} Radian.\")\n"
   ]
  },
  {
   "cell_type": "markdown",
   "metadata": {},
   "source": [
    "\n",
    "In diesem Beispiel wird ein Winkel von 30 Grad in Radian umgerechnet. Der resultierende Wert in Radian beträgt etwa 0.524."
   ]
  },
  {
   "cell_type": "markdown",
   "metadata": {},
   "source": [
    "Hier ist eine Python-Funktion namens `add_vectors`, die zwei Vektoren in kartesischen Koordinaten addiert:\n"
   ]
  },
  {
   "cell_type": "code",
   "execution_count": 4,
   "metadata": {
    "vscode": {
     "languageId": "powershell"
    }
   },
   "outputs": [],
   "source": [
    "\n",
    "def add_vectors(v, w):\n",
    "    \"\"\"\n",
    "    Add two vectors in Cartesian coordinates.\n",
    "\n",
    "    :param v: Tuple (vx, vy) representing the first vector\n",
    "    :param w: Tuple (wx, wy) representing the second vector\n",
    "    :return: Tuple (ux, uy) representing the sum vector\n",
    "    \"\"\"\n",
    "    ux = v[0] + w[0]\n",
    "    uy = v[1] + w[1]\n",
    "    return (ux, uy)\n"
   ]
  },
  {
   "cell_type": "markdown",
   "metadata": {},
   "source": [
    "# Beispiel\n"
   ]
  },
  {
   "cell_type": "code",
   "execution_count": 5,
   "metadata": {},
   "outputs": [
    {
     "name": "stdout",
     "output_type": "stream",
     "text": [
      "Summenvektor: (6, 2)\n"
     ]
    }
   ],
   "source": [
    "\n",
    "v = (2, 3)\n",
    "w = (4, -1)\n",
    "u = add_vectors(v, w)\n",
    "print(f\"Summenvektor: {u}\")\n"
   ]
  },
  {
   "cell_type": "markdown",
   "metadata": {},
   "source": [
    "\n",
    "\n",
    "In diesem Beispiel werden die Vektoren $ \\mathbf{v} = (2, 3) $ und $ \\mathbf{w} = (4, -1) $ addiert. Die Funktion gibt den Summenvektor $ \\mathbf{u} = (6, 2) $ zurück."
   ]
  },
  {
   "cell_type": "markdown",
   "metadata": {},
   "source": [
    "Um den Maqueen Roboter für eine bestimmte Zeit, in diesem Fall eine Minute, zwischen Hindernissen hin- und herfahren zu lassen, können Sie eine Kombination aus Timer-Logik und Hinderniserkennung verwenden. Die Hinderniserkennung hängt davon ab, welche Sensoren Ihr Maqueen Roboter hat. Viele Maqueen Roboter-Modelle haben Ultraschallsensoren für die Hinderniserkennung.\n",
    "\n",
    "Hier ist ein grundlegendes Beispiel, wie Sie dies in MicroPython implementieren könnten. Bitte beachten Sie, dass Sie den Code möglicherweise an die spezifische Hardwarekonfiguration Ihres Roboters anpassen müssen:\n",
    "\n",
    "```python\n",
    "from microbit import *\n",
    "import utime\n",
    "import maqueen  # Stellen Sie sicher, dass Sie die maqueen-Bibliothek importieren\n",
    "\n",
    "# Initialisierung des Ultraschallsensors (abhängig von Ihrem spezifischen Modell)\n",
    "ultrasonic = maqueen.Ultrasonic(Pin.P1, Pin.P2)\n",
    "\n",
    "def drive_for_duration(duration_ms):\n",
    "    start_time = utime.ticks_ms()\n",
    "    while utime.ticks_diff(utime.ticks_ms(), start_time) < duration_ms:\n",
    "        distance = ultrasonic.distance_cm()\n",
    "        if distance < 20:  # Angenommener Schwellenwert für Hindernisse\n",
    "            # Wenn ein Hindernis erkannt wird, drehen\n",
    "            maqueen.motor_run(maqueen.MOTORS.M1, maqueen.Dir.CW, 255)\n",
    "            maqueen.motor_run(maqueen.MOTORS.M2, maqueen.Dir.CCW, 255)\n",
    "        else:\n",
    "            # Geradeaus fahren\n",
    "            maqueen.motor_run(maqueen.MOTORS.ALL, maqueen.Dir.CW, 255)\n",
    "        utime.sleep(0.1)  # Kurze Pause, um die CPU nicht zu überlasten\n",
    "\n",
    "    # Stoppen des Roboters am Ende der Fahrt\n",
    "    maqueen.motor_stop(maqueen.MOTORS.ALL)\n",
    "\n",
    "# Fahre für 60.000 Millisekunden (1 Minute)\n",
    "drive_for_duration(60000)\n",
    "```\n",
    "\n",
    "Dieser Code setzt voraus, dass Sie die `maqueen`-Bibliothek in Ihrer MicroPython-Umgebung installiert haben und dass Ihr Maqueen Roboter mit einem Ultraschallsensor ausgestattet ist. Die Funktion `drive_for_duration` steuert den Roboter, wobei sie kontinuierlich den Abstand zu Objekten misst und entscheidet, ob sie sich weiter vorwärts bewegen oder drehen soll, wenn ein Hindernis zu nahe kommt. Der Roboter fährt für die Dauer von einer Minute (60.000 Millisekunden). \n",
    "\n",
    "Beachten Sie, dass die genaue Implementierung je nach der Konfiguration und den Fähigkeiten Ihres Maqueen Roboters variieren kann. Sie sollten auch die Dokumentation und Beispiele für Ihren spezifischen Roboter und dessen Bibliotheken konsultieren."
   ]
  },
  {
   "cell_type": "markdown",
   "metadata": {},
   "source": []
  }
 ],
 "metadata": {
  "kernelspec": {
   "display_name": "Python 3",
   "language": "python",
   "name": "python3"
  },
  "language_info": {
   "codemirror_mode": {
    "name": "ipython",
    "version": 3
   },
   "file_extension": ".py",
   "mimetype": "text/x-python",
   "name": "python",
   "nbconvert_exporter": "python",
   "pygments_lexer": "ipython3",
   "version": "3.12.1"
  }
 },
 "nbformat": 4,
 "nbformat_minor": 2
}
