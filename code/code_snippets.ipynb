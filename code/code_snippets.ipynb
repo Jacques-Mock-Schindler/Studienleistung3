{
 "cells": [
  {
   "cell_type": "markdown",
   "metadata": {},
   "source": [
    "Hier ist der gesamte Python-Code für die Funktion `polar_to_cartesian`, die Polarkoordinaten (Länge und Winkel) in kartesische Koordinaten umwandelt:"
   ]
  },
  {
   "cell_type": "code",
   "execution_count": 1,
   "metadata": {},
   "outputs": [],
   "source": [
    "\n",
    "import math\n",
    "\n",
    "def polar_to_cartesian(r, theta_degrees):\n",
    "    \"\"\"\n",
    "    Convert polar coordinates (r, theta) to Cartesian coordinates (x, y).\n",
    "    \n",
    "    :param r: Length of the vector (radius in polar coordinates)\n",
    "    :param theta_degrees: Angle in degrees from the positive x-axis\n",
    "    :return: Tuple (x, y) representing Cartesian coordinates\n",
    "    \"\"\"\n",
    "    theta_radians = math.radians(theta_degrees)  # Convert angle to radians\n",
    "    x = r * math.cos(theta_radians)\n",
    "    y = r * math.sin(theta_radians)\n",
    "    return (x, y)\n"
   ]
  },
  {
   "cell_type": "markdown",
   "metadata": {},
   "source": [
    "Beispiel"
   ]
  },
  {
   "cell_type": "code",
   "execution_count": 3,
   "metadata": {},
   "outputs": [
    {
     "name": "stdout",
     "output_type": "stream",
     "text": [
      "Kartesische Koordinaten: x = 4.330127018922194, y = 2.4999999999999996\n"
     ]
    }
   ],
   "source": [
    "r = 5\n",
    "theta_degrees = 30\n",
    "x, y = polar_to_cartesian(r, theta_degrees)\n",
    "print(f\"Kartesische Koordinaten: x = {x}, y = {y}\")\n"
   ]
  },
  {
   "cell_type": "markdown",
   "metadata": {},
   "source": [
    "\n",
    "In diesem Code wird zuerst die math-Bibliothek importiert, um Zugriff auf trigonometrische Funktionen und die Umrechnung von Grad in Radian zu haben. Die Funktion `polar_to_cartesian` nimmt die Länge `r` und den Winkel `theta_degrees` entgegen, wandelt den Winkel in Radian um und berechnet dann die kartesischen Koordinaten mit Hilfe der Kosinus- und Sinusfunktionen. Im Beispiel wird ein Vektor mit einer Länge von 5 und einem Winkel von 30 Grad in seine kartesischen Koordinaten umgewandelt und das Ergebnis ausgegeben."
   ]
  },
  {
   "cell_type": "markdown",
   "metadata": {},
   "source": []
  }
 ],
 "metadata": {
  "kernelspec": {
   "display_name": "Python 3",
   "language": "python",
   "name": "python3"
  },
  "language_info": {
   "codemirror_mode": {
    "name": "ipython",
    "version": 3
   },
   "file_extension": ".py",
   "mimetype": "text/x-python",
   "name": "python",
   "nbconvert_exporter": "python",
   "pygments_lexer": "ipython3",
   "version": "3.12.1"
  }
 },
 "nbformat": 4,
 "nbformat_minor": 2
}
